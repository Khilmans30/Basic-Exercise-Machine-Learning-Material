{
 "cells": [
  {
   "cell_type": "markdown",
   "id": "4b8e02ba-8601-407d-bbcc-0c5163ece664",
   "metadata": {},
   "source": [
    "# Simple Linear Regression dengan Scikit-Learn"
   ]
  },
  {
   "cell_type": "markdown",
   "id": "85992427-a170-43f4-bc86-3112637a81cc",
   "metadata": {},
   "source": [
    "### **Sample Dataset**"
   ]
  },
  {
   "cell_type": "code",
   "execution_count": 1,
   "id": "bac4c05a-bb01-44dd-bf5c-dc1efc56e6b6",
   "metadata": {
    "tags": []
   },
   "outputs": [
    {
     "data": {
      "text/html": [
       "<div>\n",
       "<style scoped>\n",
       "    .dataframe tbody tr th:only-of-type {\n",
       "        vertical-align: middle;\n",
       "    }\n",
       "\n",
       "    .dataframe tbody tr th {\n",
       "        vertical-align: top;\n",
       "    }\n",
       "\n",
       "    .dataframe thead th {\n",
       "        text-align: right;\n",
       "    }\n",
       "</style>\n",
       "<table border=\"1\" class=\"dataframe\">\n",
       "  <thead>\n",
       "    <tr style=\"text-align: right;\">\n",
       "      <th></th>\n",
       "      <th>diameter</th>\n",
       "      <th>harga</th>\n",
       "    </tr>\n",
       "  </thead>\n",
       "  <tbody>\n",
       "    <tr>\n",
       "      <th>0</th>\n",
       "      <td>6</td>\n",
       "      <td>7.0</td>\n",
       "    </tr>\n",
       "    <tr>\n",
       "      <th>1</th>\n",
       "      <td>8</td>\n",
       "      <td>9.0</td>\n",
       "    </tr>\n",
       "    <tr>\n",
       "      <th>2</th>\n",
       "      <td>10</td>\n",
       "      <td>13.0</td>\n",
       "    </tr>\n",
       "    <tr>\n",
       "      <th>3</th>\n",
       "      <td>14</td>\n",
       "      <td>17.5</td>\n",
       "    </tr>\n",
       "    <tr>\n",
       "      <th>4</th>\n",
       "      <td>18</td>\n",
       "      <td>18.0</td>\n",
       "    </tr>\n",
       "  </tbody>\n",
       "</table>\n",
       "</div>"
      ],
      "text/plain": [
       "   diameter  harga\n",
       "0         6    7.0\n",
       "1         8    9.0\n",
       "2        10   13.0\n",
       "3        14   17.5\n",
       "4        18   18.0"
      ]
     },
     "execution_count": 1,
     "metadata": {},
     "output_type": "execute_result"
    }
   ],
   "source": [
    "# import Library\n",
    "import pandas as pd\n",
    "import numpy as np\n",
    "import matplotlib.pyplot as plt\n",
    "\n",
    "pizza ={'diameter':[6,8,10,14,18],\n",
    "        'harga':[7,9,13,17.5,18]}\n",
    "pizza_df=pd.DataFrame(pizza)\n",
    "pizza_df"
   ]
  },
  {
   "cell_type": "markdown",
   "id": "4a52c3e9-797d-4769-9d38-ed5582d24036",
   "metadata": {},
   "source": [
    "### **Visualisasi Data**"
   ]
  },
  {
   "cell_type": "code",
   "execution_count": 22,
   "id": "532367b3-20e7-47dc-845b-90f913232848",
   "metadata": {
    "tags": []
   },
   "outputs": [
    {
     "data": {
      "text/plain": [
       "<Figure size 600x400 with 0 Axes>"
      ]
     },
     "metadata": {},
     "output_type": "display_data"
    },
    {
     "data": {
      "image/png": "[encoded data removed]",
      "text/plain": [
       "<Figure size 640x480 with 1 Axes>"
      ]
     },
     "metadata": {},
     "output_type": "display_data"
    }
   ],
   "source": [
    "# Visualisasi data\n",
    "plt.figure(figsize=(6,4))\n",
    "pizza_df.plot(kind='scatter',x='diameter',y='harga')\n",
    "plt.title('Perbandingan Diameter Dengan Harga Pizza')\n",
    "plt.xlabel('diameter(inc)')\n",
    "plt.ylabel('harga(dollar)')\n",
    "plt.xlim(0, 25)\n",
    "plt.ylim(0, 25)\n",
    "plt.grid(True)\n",
    "plt.show()"
   ]
  },
  {
   "cell_type": "code",
   "execution_count": 23,
   "id": "9211775e-6ca9-4934-a055-7207e0d58d0d",
   "metadata": {
    "tags": []
   },
   "outputs": [
    {
     "name": "stdout",
     "output_type": "stream",
     "text": [
      "nilai :[ 6  8 10 14 18]\n",
      "nilai :[ 7.   9.  13.  17.5 18. ]\n"
     ]
    }
   ],
   "source": [
    "# mengubah tipe data menjadi array\n",
    "x=np.array(pizza_df['diameter'])\n",
    "y=np.array(pizza_df['harga'])\n",
    "\n",
    "print(f'nilai :{x}')\n",
    "print(f'nilai :{y}')"
   ]
  },
  {
   "cell_type": "code",
   "execution_count": 24,
   "id": "3bde5160-4593-4e5f-953f-c6acc92666b1",
   "metadata": {
    "tags": []
   },
   "outputs": [
    {
     "data": {
      "text/plain": [
       "(5, 1)"
      ]
     },
     "execution_count": 24,
     "metadata": {},
     "output_type": "execute_result"
    }
   ],
   "source": [
    "# Mengubah data dari horizontal menjadi vertikal atau 2 dimensi\n",
    "x=x.reshape(-1,1)\n",
    "x.shape"
   ]
  },
  {
   "cell_type": "code",
   "execution_count": 5,
   "id": "698b07a6-8457-40c5-a5f9-53d85f25f881",
   "metadata": {
    "tags": []
   },
   "outputs": [
    {
     "data": {
      "text/plain": [
       "array([[ 6],\n",
       "       [ 8],\n",
       "       [10],\n",
       "       [14],\n",
       "       [18]], dtype=int64)"
      ]
     },
     "execution_count": 5,
     "metadata": {},
     "output_type": "execute_result"
    }
   ],
   "source": [
    "x"
   ]
  },
  {
   "cell_type": "markdown",
   "id": "dc6ab1dd-d0de-4c6d-8e35-9943f210bc66",
   "metadata": {},
   "source": [
    "### **Training Simple Linear Regression Model**"
   ]
  },
  {
   "cell_type": "code",
   "execution_count": 25,
   "id": "928ad3ec-e2d4-4087-b107-d9f346d94c90",
   "metadata": {
    "tags": []
   },
   "outputs": [
    {
     "data": {
      "text/html": [
       "<style>#sk-container-id-3 {color: black;}#sk-container-id-3 pre{padding: 0;}#sk-container-id-3 div.sk-toggleable {background-color: white;}#sk-container-id-3 label.sk-toggleable__label {cursor: pointer;display: block;width: 100%;margin-bottom: 0;padding: 0.3em;box-sizing: border-box;text-align: center;}#sk-container-id-3 label.sk-toggleable__label-arrow:before {content: \"▸\";float: left;margin-right: 0.25em;color: #696969;}#sk-container-id-3 label.sk-toggleable__label-arrow:hover:before {color: black;}#sk-container-id-3 div.sk-estimator:hover label.sk-toggleable__label-arrow:before {color: black;}#sk-container-id-3 div.sk-toggleable__content {max-height: 0;max-width: 0;overflow: hidden;text-align: left;background-color: #f0f8ff;}#sk-container-id-3 div.sk-toggleable__content pre {margin: 0.2em;color: black;border-radius: 0.25em;background-color: #f0f8ff;}#sk-container-id-3 input.sk-toggleable__control:checked~div.sk-toggleable__content {max-height: 200px;max-width: 100%;overflow: auto;}#sk-container-id-3 input.sk-toggleable__control:checked~label.sk-toggleable__label-arrow:before {content: \"▾\";}#sk-container-id-3 div.sk-estimator input.sk-toggleable__control:checked~label.sk-toggleable__label {background-color: #d4ebff;}#sk-container-id-3 div.sk-label input.sk-toggleable__control:checked~label.sk-toggleable__label {background-color: #d4ebff;}#sk-container-id-3 input.sk-hidden--visually {border: 0;clip: rect(1px 1px 1px 1px);clip: rect(1px, 1px, 1px, 1px);height: 1px;margin: -1px;overflow: hidden;padding: 0;position: absolute;width: 1px;}#sk-container-id-3 div.sk-estimator {font-family: monospace;background-color: #f0f8ff;border: 1px dotted black;border-radius: 0.25em;box-sizing: border-box;margin-bottom: 0.5em;}#sk-container-id-3 div.sk-estimator:hover {background-color: #d4ebff;}#sk-container-id-3 div.sk-parallel-item::after {content: \"\";width: 100%;border-bottom: 1px solid gray;flex-grow: 1;}#sk-container-id-3 div.sk-label:hover label.sk-toggleable__label {background-color: #d4ebff;}#sk-container-id-3 div.sk-serial::before {content: \"\";position: absolute;border-left: 1px solid gray;box-sizing: border-box;top: 0;bottom: 0;left: 50%;z-index: 0;}#sk-container-id-3 div.sk-serial {display: flex;flex-direction: column;align-items: center;background-color: white;padding-right: 0.2em;padding-left: 0.2em;position: relative;}#sk-container-id-3 div.sk-item {position: relative;z-index: 1;}#sk-container-id-3 div.sk-parallel {display: flex;align-items: stretch;justify-content: center;background-color: white;position: relative;}#sk-container-id-3 div.sk-item::before, #sk-container-id-3 div.sk-parallel-item::before {content: \"\";position: absolute;border-left: 1px solid gray;box-sizing: border-box;top: 0;bottom: 0;left: 50%;z-index: -1;}#sk-container-id-3 div.sk-parallel-item {display: flex;flex-direction: column;z-index: 1;position: relative;background-color: white;}#sk-container-id-3 div.sk-parallel-item:first-child::after {align-self: flex-end;width: 50%;}#sk-container-id-3 div.sk-parallel-item:last-child::after {align-self: flex-start;width: 50%;}#sk-container-id-3 div.sk-parallel-item:only-child::after {width: 0;}#sk-container-id-3 div.sk-dashed-wrapped {border: 1px dashed gray;margin: 0 0.4em 0.5em 0.4em;box-sizing: border-box;padding-bottom: 0.4em;background-color: white;}#sk-container-id-3 div.sk-label label {font-family: monospace;font-weight: bold;display: inline-block;line-height: 1.2em;}#sk-container-id-3 div.sk-label-container {text-align: center;}#sk-container-id-3 div.sk-container {/* jupyter's `normalize.less` sets `[hidden] { display: none; }` but bootstrap.min.css set `[hidden] { display: none !important; }` so we also need the `!important` here to be able to override the default hidden behavior on the sphinx rendered scikit-learn.org. See: https://github.com/scikit-learn/scikit-learn/issues/21755 */display: inline-block !important;position: relative;}#sk-container-id-3 div.sk-text-repr-fallback {display: none;}</style><div id=\"sk-container-id-3\" class=\"sk-top-container\"><div class=\"sk-text-repr-fallback\"><pre>LinearRegression()</pre><b>In a Jupyter environment, please rerun this cell to show the HTML representation or trust the notebook. <br />On GitHub, the HTML representation is unable to render, please try loading this page with nbviewer.org.</b></div><div class=\"sk-container\" hidden><div class=\"sk-item\"><div class=\"sk-estimator sk-toggleable\"><input class=\"sk-toggleable__control sk-hidden--visually\" id=\"sk-estimator-id-3\" type=\"checkbox\" checked><label for=\"sk-estimator-id-3\" class=\"sk-toggleable__label sk-toggleable__label-arrow\">LinearRegression</label><div class=\"sk-toggleable__content\"><pre>LinearRegression()</pre></div></div></div></div></div>"
      ],
      "text/plain": [
       "LinearRegression()"
      ]
     },
     "execution_count": 25,
     "metadata": {},
     "output_type": "execute_result"
    }
   ],
   "source": [
    "# Membuat model regresi linear menggunakan nilai x dan y\n",
    "from sklearn.linear_model import LinearRegression\n",
    "\n",
    "model=LinearRegression()\n",
    "model.fit(x,y)"
   ]
  },
  {
   "cell_type": "code",
   "execution_count": 26,
   "id": "91cb6e40-7ac2-4b3f-8aa7-ecac2caefddb",
   "metadata": {
    "tags": []
   },
   "outputs": [],
   "source": [
    "# Melakukan skala gambar x sejau 25 poin/grid\n",
    "x_vis=np.array([0,25]).reshape(-1,1)\n",
    "y_vis=model.predict(x_vis)"
   ]
  },
  {
   "cell_type": "code",
   "execution_count": 27,
   "id": "d63ed7d8-feb3-4277-a411-19130ef687f9",
   "metadata": {
    "tags": []
   },
   "outputs": [
    {
     "data": {
      "image/png": "[encoded data removed]",
      "text/plain": [
       "<Figure size 640x480 with 1 Axes>"
      ]
     },
     "metadata": {},
     "output_type": "display_data"
    }
   ],
   "source": [
    "# melakuakan visualisasi garis regresi atau slope.\n",
    "plt.scatter(x,y)\n",
    "plt.plot(x_vis,y_vis,'-r')\n",
    "\n",
    "plt.title('Perbandingan Diameter Dengan Harga Pizza')\n",
    "plt.xlabel('diameter(inc)')\n",
    "plt.ylabel('harga(dollar)')\n",
    "plt.xlim(0, 25)\n",
    "plt.ylim(0, 25)\n",
    "plt.grid(True)\n",
    "plt.show()"
   ]
  },
  {
   "cell_type": "markdown",
   "id": "643f785b-9bbe-45aa-b018-ad8769fc8d79",
   "metadata": {},
   "source": [
    "#### Formula Simple Linear Regression:**Y=a+bx**\n",
    "- Y adalah respons variable atau variable target\\hasil\n",
    "- a adalah interceptor\n",
    "- b adalah slope\n",
    "- x adalah explanatory variable\\nilai variabel x\\feature variable"
   ]
  },
  {
   "cell_type": "code",
   "execution_count": 28,
   "id": "0f001ebc-b4e9-4b42-8e25-256252d83b4c",
   "metadata": {
    "tags": []
   },
   "outputs": [
    {
     "name": "stdout",
     "output_type": "stream",
     "text": [
      "intercept:1.965517241379315\n",
      "slope:[0.9762931]\n"
     ]
    }
   ],
   "source": [
    "# menampilkan nilai intercept dan slope\n",
    "print(f'intercept:{model.intercept_}')\n",
    "print(f'slope:{model.coef_}')"
   ]
  },
  {
   "cell_type": "markdown",
   "id": "44971b96-9e4d-428d-83d1-d5333df032f8",
   "metadata": {},
   "source": [
    "#### Mencari Nilai Slope\n",
    "nilai slope pada linear regression dapat menggunakan formula berikut:\n",
    "> b = cov(x,y) / var(x)"
   ]
  },
  {
   "cell_type": "code",
   "execution_count": 29,
   "id": "dc0c3adf-5583-4bcb-aac3-4fca4a09305a",
   "metadata": {
    "tags": []
   },
   "outputs": [
    {
     "name": "stdout",
     "output_type": "stream",
     "text": [
      "x:\n",
      "[[ 6]\n",
      " [ 8]\n",
      " [10]\n",
      " [14]\n",
      " [18]]\n",
      "\n",
      "x flatten:[ 6  8 10 14 18]\n",
      "\n",
      "y:[ 7.   9.  13.  17.5 18. ]\n"
     ]
    }
   ],
   "source": [
    "# menampilkan nilai x, x secara horizontal, dan y\n",
    "print(f'x:\\n{x}\\n')\n",
    "print(f'x flatten:{x.flatten()}\\n')\n",
    "print(f'y:{y}')"
   ]
  },
  {
   "cell_type": "markdown",
   "id": "f6576666-3b74-4c09-a370-83c992787427",
   "metadata": {},
   "source": [
    "#### Variance "
   ]
  },
  {
   "cell_type": "code",
   "execution_count": 30,
   "id": "ad7e8dce-aa8e-416e-aa1c-68677383174d",
   "metadata": {
    "tags": []
   },
   "outputs": [
    {
     "name": "stdout",
     "output_type": "stream",
     "text": [
      "variance:23.2\n"
     ]
    }
   ],
   "source": [
    "# Mencari nilai variance\n",
    "variance_x=np.var(x.flatten(), ddof=1)\n",
    "print(f'variance:{variance_x}')"
   ]
  },
  {
   "cell_type": "markdown",
   "id": "5c282a12-d7f7-4c71-b11d-93ec2bb7edeb",
   "metadata": {},
   "source": [
    "#### Covariance"
   ]
  },
  {
   "cell_type": "code",
   "execution_count": 31,
   "id": "373e54e8-4d1a-4193-90c3-8c92c8d5ac2e",
   "metadata": {
    "tags": []
   },
   "outputs": [
    {
     "data": {
      "text/plain": [
       "array([[23.2 , 22.65],\n",
       "       [22.65, 24.3 ]])"
      ]
     },
     "execution_count": 31,
     "metadata": {},
     "output_type": "execute_result"
    }
   ],
   "source": [
    "# Mencari nilai covariance\n",
    "np.cov(x.flatten(), y)"
   ]
  },
  {
   "cell_type": "code",
   "execution_count": 13,
   "id": "85057e86-99dd-45d4-bafb-2afa41afcf4c",
   "metadata": {
    "tags": []
   },
   "outputs": [
    {
     "name": "stdout",
     "output_type": "stream",
     "text": [
      "covariance:22.65\n"
     ]
    }
   ],
   "source": [
    "covariance_xy=np.cov(x.flatten(), y)[0][1]\n",
    "print(f'covariance:{covariance_xy}')"
   ]
  },
  {
   "cell_type": "markdown",
   "id": "853e518d-e6fe-4441-ad91-09fdce3dd63f",
   "metadata": {},
   "source": [
    "#### Slope"
   ]
  },
  {
   "cell_type": "code",
   "execution_count": 32,
   "id": "37c6a530-a7bc-4290-8d34-34fb87c1aecb",
   "metadata": {
    "tags": []
   },
   "outputs": [
    {
     "name": "stdout",
     "output_type": "stream",
     "text": [
      "slope:0.9762931034482758\n"
     ]
    }
   ],
   "source": [
    "# mencari nilai slope\n",
    "slope=covariance_xy/variance_x\n",
    "print(f'slope:{slope}')"
   ]
  },
  {
   "cell_type": "markdown",
   "id": "6b905161-2306-4eca-b255-33e181ffe8ee",
   "metadata": {},
   "source": [
    "#### Mencari Nilai Intercept"
   ]
  },
  {
   "cell_type": "code",
   "execution_count": 33,
   "id": "e6360f62-5396-43d9-800c-c6f73e32b213",
   "metadata": {
    "tags": []
   },
   "outputs": [
    {
     "name": "stdout",
     "output_type": "stream",
     "text": [
      "intercept: 1.9655172413793114\n"
     ]
    }
   ],
   "source": [
    "# Mencari nilai intercept\n",
    "intercept = np.mean(y)-slope*np.mean(x)\n",
    "print(f'intercept: {intercept}')"
   ]
  },
  {
   "cell_type": "markdown",
   "id": "45608385-c9bb-48e2-80cb-0fa87db8f988",
   "metadata": {
    "tags": []
   },
   "source": [
    "### **Melakukan Prediksi Harga Pizza**"
   ]
  },
  {
   "cell_type": "code",
   "execution_count": 35,
   "id": "4b72681c-458f-4aaa-a5bb-eea06d973051",
   "metadata": {
    "tags": []
   },
   "outputs": [
    {
     "data": {
      "text/plain": [
       "array([[12],\n",
       "       [20],\n",
       "       [23]])"
      ]
     },
     "execution_count": 35,
     "metadata": {},
     "output_type": "execute_result"
    }
   ],
   "source": [
    "# membuat variable feature atau x baru\n",
    "diamter_pizza=np.array([12,20,23]).reshape(-1,1)\n",
    "diamter_pizza"
   ]
  },
  {
   "cell_type": "code",
   "execution_count": 36,
   "id": "68bbf283-6c61-4e2c-ac2a-2b989bcc93f2",
   "metadata": {
    "tags": []
   },
   "outputs": [
    {
     "data": {
      "text/plain": [
       "array([13.68103448, 21.49137931, 24.42025862])"
      ]
     },
     "execution_count": 36,
     "metadata": {},
     "output_type": "execute_result"
    }
   ],
   "source": [
    "# Melakukan prediksi harga pizza berdasarkan nilai x baru\n",
    "prediksi_harga=model.predict(diamter_pizza)\n",
    "prediksi_harga"
   ]
  },
  {
   "cell_type": "code",
   "execution_count": 37,
   "id": "abf1b38e-9ec1-45b4-a308-20c4e32a9172",
   "metadata": {
    "tags": []
   },
   "outputs": [
    {
     "name": "stdout",
     "output_type": "stream",
     "text": [
      "diamter: [12],prediksi harga: 13.681034482758621\n",
      "diamter: [20],prediksi harga: 21.491379310344826\n",
      "diamter: [23],prediksi harga: 24.42025862068965\n"
     ]
    }
   ],
   "source": [
    "# menampilkan diameter\\x baru dengan harga prediksi pizza menggunakan looping dan zip.\n",
    "for dmtr,hrg in zip(diamter_pizza,prediksi_harga):\n",
    "    print(f'diamter: {dmtr},prediksi harga: {hrg}')"
   ]
  },
  {
   "cell_type": "markdown",
   "id": "528cff31-537d-4ba0-b361-990d086ebe98",
   "metadata": {},
   "source": [
    "### **Evaluasi Simple Linear Regretion Model**"
   ]
  },
  {
   "cell_type": "code",
   "execution_count": 38,
   "id": "4e590faf-491e-4950-9ea4-247b91683d58",
   "metadata": {
    "tags": []
   },
   "outputs": [],
   "source": [
    "# Melakukan splitting data untuk evaluasi model linear regression\n",
    "x_train =np.array([6,8,10,14,18]).reshape(-1,1)\n",
    "y_train =np.array([7,9,13,17.5,18])\n",
    "\n",
    "x_test =np.array([8,9,11,16,12]).reshape(-1,1)\n",
    "y_test =np.array([11,8.5,15,18,11])"
   ]
  },
  {
   "cell_type": "markdown",
   "id": "0bfff62d-f844-4e68-a291-d528fdd7050a",
   "metadata": {
    "tags": []
   },
   "source": [
    "#### Training Simple Linear Regression"
   ]
  },
  {
   "cell_type": "code",
   "execution_count": 39,
   "id": "666d184b-26e7-4456-94d8-dfea5b5e68d2",
   "metadata": {
    "tags": []
   },
   "outputs": [
    {
     "data": {
      "text/html": [
       "<style>#sk-container-id-4 {color: black;}#sk-container-id-4 pre{padding: 0;}#sk-container-id-4 div.sk-toggleable {background-color: white;}#sk-container-id-4 label.sk-toggleable__label {cursor: pointer;display: block;width: 100%;margin-bottom: 0;padding: 0.3em;box-sizing: border-box;text-align: center;}#sk-container-id-4 label.sk-toggleable__label-arrow:before {content: \"▸\";float: left;margin-right: 0.25em;color: #696969;}#sk-container-id-4 label.sk-toggleable__label-arrow:hover:before {color: black;}#sk-container-id-4 div.sk-estimator:hover label.sk-toggleable__label-arrow:before {color: black;}#sk-container-id-4 div.sk-toggleable__content {max-height: 0;max-width: 0;overflow: hidden;text-align: left;background-color: #f0f8ff;}#sk-container-id-4 div.sk-toggleable__content pre {margin: 0.2em;color: black;border-radius: 0.25em;background-color: #f0f8ff;}#sk-container-id-4 input.sk-toggleable__control:checked~div.sk-toggleable__content {max-height: 200px;max-width: 100%;overflow: auto;}#sk-container-id-4 input.sk-toggleable__control:checked~label.sk-toggleable__label-arrow:before {content: \"▾\";}#sk-container-id-4 div.sk-estimator input.sk-toggleable__control:checked~label.sk-toggleable__label {background-color: #d4ebff;}#sk-container-id-4 div.sk-label input.sk-toggleable__control:checked~label.sk-toggleable__label {background-color: #d4ebff;}#sk-container-id-4 input.sk-hidden--visually {border: 0;clip: rect(1px 1px 1px 1px);clip: rect(1px, 1px, 1px, 1px);height: 1px;margin: -1px;overflow: hidden;padding: 0;position: absolute;width: 1px;}#sk-container-id-4 div.sk-estimator {font-family: monospace;background-color: #f0f8ff;border: 1px dotted black;border-radius: 0.25em;box-sizing: border-box;margin-bottom: 0.5em;}#sk-container-id-4 div.sk-estimator:hover {background-color: #d4ebff;}#sk-container-id-4 div.sk-parallel-item::after {content: \"\";width: 100%;border-bottom: 1px solid gray;flex-grow: 1;}#sk-container-id-4 div.sk-label:hover label.sk-toggleable__label {background-color: #d4ebff;}#sk-container-id-4 div.sk-serial::before {content: \"\";position: absolute;border-left: 1px solid gray;box-sizing: border-box;top: 0;bottom: 0;left: 50%;z-index: 0;}#sk-container-id-4 div.sk-serial {display: flex;flex-direction: column;align-items: center;background-color: white;padding-right: 0.2em;padding-left: 0.2em;position: relative;}#sk-container-id-4 div.sk-item {position: relative;z-index: 1;}#sk-container-id-4 div.sk-parallel {display: flex;align-items: stretch;justify-content: center;background-color: white;position: relative;}#sk-container-id-4 div.sk-item::before, #sk-container-id-4 div.sk-parallel-item::before {content: \"\";position: absolute;border-left: 1px solid gray;box-sizing: border-box;top: 0;bottom: 0;left: 50%;z-index: -1;}#sk-container-id-4 div.sk-parallel-item {display: flex;flex-direction: column;z-index: 1;position: relative;background-color: white;}#sk-container-id-4 div.sk-parallel-item:first-child::after {align-self: flex-end;width: 50%;}#sk-container-id-4 div.sk-parallel-item:last-child::after {align-self: flex-start;width: 50%;}#sk-container-id-4 div.sk-parallel-item:only-child::after {width: 0;}#sk-container-id-4 div.sk-dashed-wrapped {border: 1px dashed gray;margin: 0 0.4em 0.5em 0.4em;box-sizing: border-box;padding-bottom: 0.4em;background-color: white;}#sk-container-id-4 div.sk-label label {font-family: monospace;font-weight: bold;display: inline-block;line-height: 1.2em;}#sk-container-id-4 div.sk-label-container {text-align: center;}#sk-container-id-4 div.sk-container {/* jupyter's `normalize.less` sets `[hidden] { display: none; }` but bootstrap.min.css set `[hidden] { display: none !important; }` so we also need the `!important` here to be able to override the default hidden behavior on the sphinx rendered scikit-learn.org. See: https://github.com/scikit-learn/scikit-learn/issues/21755 */display: inline-block !important;position: relative;}#sk-container-id-4 div.sk-text-repr-fallback {display: none;}</style><div id=\"sk-container-id-4\" class=\"sk-top-container\"><div class=\"sk-text-repr-fallback\"><pre>LinearRegression()</pre><b>In a Jupyter environment, please rerun this cell to show the HTML representation or trust the notebook. <br />On GitHub, the HTML representation is unable to render, please try loading this page with nbviewer.org.</b></div><div class=\"sk-container\" hidden><div class=\"sk-item\"><div class=\"sk-estimator sk-toggleable\"><input class=\"sk-toggleable__control sk-hidden--visually\" id=\"sk-estimator-id-4\" type=\"checkbox\" checked><label for=\"sk-estimator-id-4\" class=\"sk-toggleable__label sk-toggleable__label-arrow\">LinearRegression</label><div class=\"sk-toggleable__content\"><pre>LinearRegression()</pre></div></div></div></div></div>"
      ],
      "text/plain": [
       "LinearRegression()"
      ]
     },
     "execution_count": 39,
     "metadata": {},
     "output_type": "execute_result"
    }
   ],
   "source": [
    "# membuat model linear regretion baru\n",
    "model=LinearRegression()\n",
    "model.fit(x_train,y_train)"
   ]
  },
  {
   "cell_type": "markdown",
   "id": "7e313e0d-043b-45d5-9fba-50e1d5e533d0",
   "metadata": {},
   "source": [
    "### **Evaluasi Simple Linear Regretion Model Menggunakan Coefficient of Determination (R^2)**"
   ]
  },
  {
   "cell_type": "code",
   "execution_count": 40,
   "id": "d98631cf-a3bc-4525-bcd0-44f836adb48b",
   "metadata": {
    "tags": []
   },
   "outputs": [
    {
     "name": "stdout",
     "output_type": "stream",
     "text": [
      "r2_square:0.6620052929422553\n"
     ]
    }
   ],
   "source": [
    "# mengevaluasi menggunakan r^2\n",
    "from sklearn.metrics import r2_score\n",
    "y_pred=model.predict(x_test)\n",
    "y_square=r2_score(y_test,y_pred)\n",
    "\n",
    "print(f'r2_square:{y_square}')"
   ]
  },
  {
   "cell_type": "markdown",
   "id": "556ed4a4-5458-41db-a4b8-315de5a4d508",
   "metadata": {
    "tags": []
   },
   "source": [
    "nilai r2_square yang diatas 0 yaitu 0.6620052929422553 yang dapat diartikan model lineae regresionnya baik\\fit\\akurat."
   ]
  },
  {
   "cell_type": "code",
   "execution_count": null,
   "id": "c23e9a83-d7ed-4296-b9ce-39f622ba5148",
   "metadata": {},
   "outputs": [],
   "source": []
  }
 ],
 "metadata": {
  "kernelspec": {
   "display_name": "Python 3 (ipykernel)",
   "language": "python",
   "name": "python3"
  },
  "language_info": {
   "codemirror_mode": {
    "name": "ipython",
    "version": 3
   },
   "file_extension": ".py",
   "mimetype": "text/x-python",
   "name": "python",
   "nbconvert_exporter": "python",
   "pygments_lexer": "ipython3",
   "version": "3.11.4"
  }
 },
 "nbformat": 4,
 "nbformat_minor": 5
}
