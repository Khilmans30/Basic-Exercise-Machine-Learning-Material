{
 "cells": [
  {
   "cell_type": "markdown",
   "id": "b0f9bf34-4dbd-4812-8362-c639e47652a6",
   "metadata": {},
   "source": [
    "# Data Preprocessing Menggunakan Scikit-Learn"
   ]
  },
  {
   "cell_type": "markdown",
   "id": "8951f65e-e60e-4f68-a8f4-bf28d91d6182",
   "metadata": {},
   "source": [
    "## **Sampel Data**"
   ]
  },
  {
   "cell_type": "code",
   "execution_count": 1,
   "id": "c7346773-76fa-41f1-a7f1-223b83623082",
   "metadata": {
    "tags": []
   },
   "outputs": [
    {
     "data": {
      "text/plain": [
       "array([[ 2.1, -1.9,  5.5],\n",
       "       [-1.5,  2.4,  3.5],\n",
       "       [ 0.5, -7.9,  5.6],\n",
       "       [ 5.9,  2.3, -5.8]])"
      ]
     },
     "execution_count": 1,
     "metadata": {},
     "output_type": "execute_result"
    }
   ],
   "source": [
    "import numpy as np\n",
    "from sklearn import preprocessing\n",
    "\n",
    "sample_data=np.array([[2.1,-1.9,5.5],\n",
    "                      [-1.5,2.4,3.5],\n",
    "                      [0.5,-7.9,5.6],\n",
    "                      [5.9,2.3,-5.8]])\n",
    "\n",
    "sample_data"
   ]
  },
  {
   "cell_type": "code",
   "execution_count": 2,
   "id": "cbe24142-f43e-4563-8d86-1e73a062b347",
   "metadata": {
    "tags": []
   },
   "outputs": [
    {
     "data": {
      "text/plain": [
       "(4, 3)"
      ]
     },
     "execution_count": 2,
     "metadata": {},
     "output_type": "execute_result"
    }
   ],
   "source": [
    "sample_data.shape"
   ]
  },
  {
   "cell_type": "markdown",
   "id": "2a2be7d2-3042-4b78-bf86-41c0f1f7e3cf",
   "metadata": {},
   "source": [
    "## **Binarisation**"
   ]
  },
  {
   "cell_type": "code",
   "execution_count": 3,
   "id": "245ac322-f821-4b6c-96fa-541543f74c9f",
   "metadata": {
    "tags": []
   },
   "outputs": [
    {
     "data": {
      "text/plain": [
       "array([[ 2.1, -1.9,  5.5],\n",
       "       [-1.5,  2.4,  3.5],\n",
       "       [ 0.5, -7.9,  5.6],\n",
       "       [ 5.9,  2.3, -5.8]])"
      ]
     },
     "execution_count": 3,
     "metadata": {},
     "output_type": "execute_result"
    }
   ],
   "source": [
    "sample_data"
   ]
  },
  {
   "cell_type": "code",
   "execution_count": 24,
   "id": "07eb60e3-9dfa-436b-b8d0-4af988a5c13b",
   "metadata": {
    "tags": []
   },
   "outputs": [
    {
     "data": {
      "text/plain": [
       "array([[1., 0., 1.],\n",
       "       [0., 1., 1.],\n",
       "       [0., 0., 1.],\n",
       "       [1., 1., 0.]])"
      ]
     },
     "execution_count": 24,
     "metadata": {},
     "output_type": "execute_result"
    }
   ],
   "source": [
    "# Setiap nilai yang lebih kecil dari 0.5 akan dikonversikan menjadi nilai 0 dan diatas 0.5 akan dikonversikan menjadi 1 dan nilai yang persis dengan thereshold akan dikonversikan menjadi nilai 0.\n",
    "preprocessor=preprocessing.Binarizer(threshold=0.5)\n",
    "binarised_data=preprocessor.transform(sample_data)\n",
    "binarised_data"
   ]
  },
  {
   "cell_type": "markdown",
   "id": "3a31a15e-3bf3-479f-9548-fbccfd8aae4e",
   "metadata": {},
   "source": [
    "## **Scalling**"
   ]
  },
  {
   "cell_type": "code",
   "execution_count": 10,
   "id": "3fffbdd6-630b-4885-ba43-7ad0a63f9ef2",
   "metadata": {
    "tags": []
   },
   "outputs": [
    {
     "data": {
      "text/plain": [
       "array([[ 2.1, -1.9,  5.5],\n",
       "       [-1.5,  2.4,  3.5],\n",
       "       [ 0.5, -7.9,  5.6],\n",
       "       [ 5.9,  2.3, -5.8]])"
      ]
     },
     "execution_count": 10,
     "metadata": {},
     "output_type": "execute_result"
    }
   ],
   "source": [
    "sample_data"
   ]
  },
  {
   "cell_type": "code",
   "execution_count": 25,
   "id": "0da8de74-3526-4f87-bd7c-0ae071abaa28",
   "metadata": {
    "tags": []
   },
   "outputs": [
    {
     "data": {
      "text/plain": [
       "array([[0.48648649, 0.58252427, 0.99122807],\n",
       "       [0.        , 1.        , 0.81578947],\n",
       "       [0.27027027, 0.        , 1.        ],\n",
       "       [1.        , 0.99029126, 0.        ]])"
      ]
     },
     "execution_count": 25,
     "metadata": {},
     "output_type": "execute_result"
    }
   ],
   "source": [
    "# membuat Scaling pada angka tertentu antara 0-1.nilai 0 mengindikasikan nilai terkecil dan 1 mengindikasikan nilai terbesar dari data.\n",
    "processor=preprocessing.MinMaxScaler(feature_range=(0,1))\n",
    "processor.fit(sample_data)\n",
    "Scaled_Data=processor.transform(sample_data)\n",
    "Scaled_Data# diperhatikan ber kolomnya...scallingnya per kolom."
   ]
  },
  {
   "cell_type": "code",
   "execution_count": 14,
   "id": "d586690e-037a-41e4-968e-1c2810d52764",
   "metadata": {
    "tags": []
   },
   "outputs": [
    {
     "data": {
      "text/plain": [
       "array([[0.48648649, 0.58252427, 0.99122807],\n",
       "       [0.        , 1.        , 0.81578947],\n",
       "       [0.27027027, 0.        , 1.        ],\n",
       "       [1.        , 0.99029126, 0.        ]])"
      ]
     },
     "execution_count": 14,
     "metadata": {},
     "output_type": "execute_result"
    }
   ],
   "source": [
    "Scaled_Data=processor.fit_transform(sample_data)\n",
    "Scaled_Data"
   ]
  },
  {
   "cell_type": "markdown",
   "id": "a42597b6-b08a-42b3-8ad4-f9d7ce779b2f",
   "metadata": {},
   "source": [
    "## L1 Normalization:Least Absolut Deviation"
   ]
  },
  {
   "cell_type": "code",
   "execution_count": 15,
   "id": "78ae955e-32d7-4ae4-9818-269fcc605235",
   "metadata": {
    "tags": []
   },
   "outputs": [
    {
     "data": {
      "text/plain": [
       "array([[ 2.1, -1.9,  5.5],\n",
       "       [-1.5,  2.4,  3.5],\n",
       "       [ 0.5, -7.9,  5.6],\n",
       "       [ 5.9,  2.3, -5.8]])"
      ]
     },
     "execution_count": 15,
     "metadata": {},
     "output_type": "execute_result"
    }
   ],
   "source": [
    "sample_data"
   ]
  },
  {
   "cell_type": "code",
   "execution_count": 21,
   "id": "422ecbe4-ae94-42d1-a732-0456e1bd575e",
   "metadata": {
    "tags": []
   },
   "outputs": [
    {
     "data": {
      "text/plain": [
       "array([[ 0.22105263, -0.2       ,  0.57894737],\n",
       "       [-0.2027027 ,  0.32432432,  0.47297297],\n",
       "       [ 0.03571429, -0.56428571,  0.4       ],\n",
       "       [ 0.42142857,  0.16428571, -0.41428571]])"
      ]
     },
     "execution_count": 21,
     "metadata": {},
     "output_type": "execute_result"
    }
   ],
   "source": [
    "l1_normalised_data=preprocessing.normalize(sample_data, norm='l1')\n",
    "l1_normalised_data"
   ]
  },
  {
   "cell_type": "markdown",
   "id": "c5b3ac21-60dc-40e2-b87d-30c19a047530",
   "metadata": {},
   "source": [
    "## L2 Normalization:Least Square"
   ]
  },
  {
   "cell_type": "code",
   "execution_count": 22,
   "id": "682f3b42-b873-4296-b1f7-e17df18f77f9",
   "metadata": {
    "tags": []
   },
   "outputs": [
    {
     "data": {
      "text/plain": [
       "array([[ 2.1, -1.9,  5.5],\n",
       "       [-1.5,  2.4,  3.5],\n",
       "       [ 0.5, -7.9,  5.6],\n",
       "       [ 5.9,  2.3, -5.8]])"
      ]
     },
     "execution_count": 22,
     "metadata": {},
     "output_type": "execute_result"
    }
   ],
   "source": [
    "sample_data"
   ]
  },
  {
   "cell_type": "code",
   "execution_count": 23,
   "id": "1fdb9e5b-244c-4bc6-8ce6-a4121b39125c",
   "metadata": {
    "tags": []
   },
   "outputs": [
    {
     "data": {
      "text/plain": [
       "array([[ 0.33946114, -0.30713151,  0.88906489],\n",
       "       [-0.33325106,  0.53320169,  0.7775858 ],\n",
       "       [ 0.05156558, -0.81473612,  0.57753446],\n",
       "       [ 0.68706914,  0.26784051, -0.6754239 ]])"
      ]
     },
     "execution_count": 23,
     "metadata": {},
     "output_type": "execute_result"
    }
   ],
   "source": [
    "l2_normalised_data=preprocessing.normalize(sample_data, norm='l2')\n",
    "l2_normalised_data"
   ]
  },
  {
   "cell_type": "code",
   "execution_count": null,
   "id": "e39d3b27-1646-4bb5-b010-0385fa4fae74",
   "metadata": {},
   "outputs": [],
   "source": []
  }
 ],
 "metadata": {
  "kernelspec": {
   "display_name": "Python 3 (ipykernel)",
   "language": "python",
   "name": "python3"
  },
  "language_info": {
   "codemirror_mode": {
    "name": "ipython",
    "version": 3
   },
   "file_extension": ".py",
   "mimetype": "text/x-python",
   "name": "python",
   "nbconvert_exporter": "python",
   "pygments_lexer": "ipython3",
   "version": "3.11.4"
  }
 },
 "nbformat": 4,
 "nbformat_minor": 5
}
